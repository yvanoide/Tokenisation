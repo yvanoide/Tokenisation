{
 "cells": [
  {
   "cell_type": "markdown",
   "metadata": {},
   "source": [
    "J'importe les bibliothèques"
   ]
  },
  {
   "cell_type": "code",
   "execution_count": 6,
   "metadata": {},
   "outputs": [],
   "source": [
    "import nltk\n",
    "import re\n",
    "from nltk.tokenize import word_tokenize\n",
    "from nltk.corpus import stopwords\n",
    "from datasets import load_dataset\n",
    "import spacy"
   ]
  },
  {
   "cell_type": "markdown",
   "metadata": {},
   "source": [
    "J'affiche le premier commentaire"
   ]
  },
  {
   "cell_type": "code",
   "execution_count": 1,
   "metadata": {},
   "outputs": [
    {
     "name": "stderr",
     "output_type": "stream",
     "text": [
      "/home/yves/iadev-python/wentz/.venv/lib/python3.10/site-packages/tqdm/auto.py:21: TqdmWarning: IProgress not found. Please update jupyter and ipywidgets. See https://ipywidgets.readthedocs.io/en/stable/user_install.html\n",
      "  from .autonotebook import tqdm as notebook_tqdm\n"
     ]
    },
    {
     "name": "stdout",
     "output_type": "stream",
     "text": [
      "Premier avis Allociné :\n",
      "Si vous cherchez du cinéma abrutissant à tous les étages,n'ayant aucune peur du cliché en castagnettes et moralement douteux,\"From Paris with love\" est fait pour vous.Toutes les productions Besson,via sa filière EuropaCorp ont de quoi faire naître la moquerie.Paris y est encore une fois montrée comme une capitale exotique,mais attention si l'on se dirige vers la banlieue,on y trouve tout plein d'intégristes musulmans prêts à faire sauter le caisson d'une ambassadrice américaine.Nauséeux.Alors on se dit qu'on va au moins pouvoir apprécier la déconnade d'un classique buddy-movie avec le jeune agent aux dents longues obligé de faire équipe avec un vieux lou complètement timbré.Mais d'un côté,on a un Jonathan Rhys-meyers fayot au possible,et de l'autre un John Travolta en total délire narcissico-badass,crâne rasé et bouc proéminent à l'appui.Sinon,il n'y a aucun scénario.Seulement,des poursuites débiles sur l'autoroute,Travolta qui étale 10 mecs à l'arme blanche en 8 mouvements(!!)ou laisse son associé se faire démolir la tronche pendant qu'il scrute à la jumelle.Ca pourrait être un plaisir coupable,tellement c'est \"hénaurme\",c'est juste de la daube dans la droite lignée d'un \"Transporteur\",\"Taken\"ou \"Banlieue 13\".\n"
     ]
    }
   ],
   "source": [
    "from datasets import load_dataset\n",
    "\n",
    "# jeu de données Allociné\n",
    "allocine_dataset = load_dataset(\"allocine\")\n",
    "\n",
    "# avis\n",
    "reviews = allocine_dataset[\"train\"][\"review\"]\n",
    "\n",
    "print(\"Premier avis Allociné :\")\n",
    "print(reviews[0])\n"
   ]
  },
  {
   "cell_type": "markdown",
   "metadata": {},
   "source": [
    "Je Télécharger les données nécessaires pour NLTK\n"
   ]
  },
  {
   "cell_type": "code",
   "execution_count": 3,
   "metadata": {},
   "outputs": [
    {
     "name": "stderr",
     "output_type": "stream",
     "text": [
      "[nltk_data] Downloading package punkt to /home/yves/nltk_data...\n",
      "[nltk_data]   Package punkt is already up-to-date!\n",
      "[nltk_data] Downloading package stopwords to /home/yves/nltk_data...\n",
      "[nltk_data]   Unzipping corpora/stopwords.zip.\n"
     ]
    },
    {
     "data": {
      "text/plain": [
       "True"
      ]
     },
     "execution_count": 3,
     "metadata": {},
     "output_type": "execute_result"
    }
   ],
   "source": [
    "import nltk\n",
    "\n",
    "nltk.download('punkt')\n",
    "nltk.download('stopwords')\n"
   ]
  },
  {
   "cell_type": "markdown",
   "metadata": {},
   "source": [
    "Je tokenise dans cette partie avec elimination des caractères spéciaux"
   ]
  },
  {
   "cell_type": "code",
   "execution_count": 4,
   "metadata": {},
   "outputs": [
    {
     "name": "stdout",
     "output_type": "stream",
     "text": [
      "Avis original:\n",
      "Si vous cherchez du cinéma abrutissant à tous les étages,n'ayant aucune peur du cliché en castagnettes et moralement douteux,\"From Paris with love\" est fait pour vous.Toutes les productions Besson,via sa filière EuropaCorp ont de quoi faire naître la moquerie.Paris y est encore une fois montrée comme une capitale exotique,mais attention si l'on se dirige vers la banlieue,on y trouve tout plein d'intégristes musulmans prêts à faire sauter le caisson d'une ambassadrice américaine.Nauséeux.Alors on se dit qu'on va au moins pouvoir apprécier la déconnade d'un classique buddy-movie avec le jeune agent aux dents longues obligé de faire équipe avec un vieux lou complètement timbré.Mais d'un côté,on a un Jonathan Rhys-meyers fayot au possible,et de l'autre un John Travolta en total délire narcissico-badass,crâne rasé et bouc proéminent à l'appui.Sinon,il n'y a aucun scénario.Seulement,des poursuites débiles sur l'autoroute,Travolta qui étale 10 mecs à l'arme blanche en 8 mouvements(!!)ou laisse son associé se faire démolir la tronche pendant qu'il scrute à la jumelle.Ca pourrait être un plaisir coupable,tellement c'est \"hénaurme\",c'est juste de la daube dans la droite lignée d'un \"Transporteur\",\"Taken\"ou \"Banlieue 13\".\n",
      "\n",
      "Tokens après nettoyage:\n",
      "['si', 'cherchez', 'cinéma', 'abrutissant', 'tous', 'étages', 'aucune', 'peur', 'cliché', 'castagnettes', 'moralement', 'douteux', 'from', 'paris', 'with', 'love', 'fait', 'productions', 'besson', 'via', 'filière', 'europacorp', 'quoi', 'faire', 'naître', 'encore', 'fois', 'montrée', 'comme', 'capitale', 'exotique', 'attention', 'si', 'dirige', 'vers', 'banlieue', 'trouve', 'tout', 'plein', 'musulmans', 'prêts', 'faire', 'sauter', 'caisson', 'ambassadrice', 'dit', 'va', 'moins', 'pouvoir', 'apprécier', 'déconnade', 'classique', 'jeune', 'agent', 'dents', 'longues', 'obligé', 'faire', 'équipe', 'vieux', 'lou', 'complètement', 'côté', 'a', 'jonathan', 'fayot', 'possible', 'john', 'travolta', 'total', 'délire', 'crâne', 'rasé', 'bouc', 'proéminent', 'a', 'aucun', 'poursuites', 'débiles', 'travolta', 'étale', '10', 'mecs', 'blanche', '8', 'mouvements', 'laisse', 'associé', 'faire', 'démolir', 'tronche', 'pendant', 'scrute', 'pourrait', 'être', 'plaisir', 'coupable', 'tellement', 'hénaurme', 'juste', 'daube', 'droite', 'lignée', 'transporteur', 'taken', 'banlieue', '13']\n"
     ]
    }
   ],
   "source": [
    "allocine_dataset = load_dataset(\"allocine\")\n",
    "\n",
    "reviews = allocine_dataset[\"train\"][\"review\"]\n",
    "\n",
    "first_review = reviews[0]\n",
    "\n",
    "tokens = word_tokenize(first_review)\n",
    "\n",
    "stop_words = set(stopwords.words('french'))\n",
    "\n",
    "cleaned_tokens = [token.lower() for token in tokens if re.match(r'^\\w+$', token) and token.lower() not in stop_words]\n",
    "\n",
    "# Afficher les résultats\n",
    "print(\"Avis original:\")\n",
    "print(first_review)\n",
    "print(\"\\nTokens après nettoyage:\")\n",
    "print(cleaned_tokens)\n"
   ]
  },
  {
   "cell_type": "markdown",
   "metadata": {},
   "source": [
    "Je traite les exceptions."
   ]
  },
  {
   "cell_type": "code",
   "execution_count": 5,
   "metadata": {},
   "outputs": [
    {
     "name": "stderr",
     "output_type": "stream",
     "text": [
      "[nltk_data] Downloading package punkt to /home/yves/nltk_data...\n",
      "[nltk_data]   Package punkt is already up-to-date!\n",
      "[nltk_data] Downloading package stopwords to /home/yves/nltk_data...\n",
      "[nltk_data]   Package stopwords is already up-to-date!\n"
     ]
    },
    {
     "name": "stdout",
     "output_type": "stream",
     "text": [
      "Avis original:\n",
      "Si vous cherchez du cinéma abrutissant à tous les étages,n'ayant aucune peur du cliché en castagnettes et moralement douteux,\"From Paris with love\" est fait pour vous.Toutes les productions Besson,via sa filière EuropaCorp ont de quoi faire naître la moquerie.Paris y est encore une fois montrée comme une capitale exotique,mais attention si l'on se dirige vers la banlieue,on y trouve tout plein d'intégristes musulmans prêts à faire sauter le caisson d'une ambassadrice américaine.Nauséeux.Alors on se dit qu'on va au moins pouvoir apprécier la déconnade d'un classique buddy-movie avec le jeune agent aux dents longues obligé de faire équipe avec un vieux lou complètement timbré.Mais d'un côté,on a un Jonathan Rhys-meyers fayot au possible,et de l'autre un John Travolta en total délire narcissico-badass,crâne rasé et bouc proéminent à l'appui.Sinon,il n'y a aucun scénario.Seulement,des poursuites débiles sur l'autoroute,Travolta qui étale 10 mecs à l'arme blanche en 8 mouvements(!!)ou laisse son associé se faire démolir la tronche pendant qu'il scrute à la jumelle.Ca pourrait être un plaisir coupable,tellement c'est \"hénaurme\",c'est juste de la daube dans la droite lignée d'un \"Transporteur\",\"Taken\"ou \"Banlieue 13\".\n",
      "\n",
      "Tokens après nettoyage:\n",
      "['si', 'cherchez', 'cinéma', 'abrutissant', 'tous', 'étages', 'aucune', 'peur', 'cliché', 'castagnettes', 'moralement', 'douteux', 'from', 'paris', 'with', 'love', 'fait', 'productions', 'besson', 'via', 'filière', 'europacorp', 'quoi', 'faire', 'naître', 'encore', 'fois', 'montrée', 'comme', 'capitale', 'exotique', 'attention', 'si', 'dirige', 'vers', 'banlieue', 'trouve', 'tout', 'plein', 'musulmans', 'prêts', 'faire', 'sauter', 'caisson', 'ambassadrice', 'dit', 'va', 'moins', 'pouvoir', 'apprécier', 'déconnade', 'classique', 'jeune', 'agent', 'dents', 'longues', 'obligé', 'faire', 'équipe', 'vieux', 'lou', 'complètement', 'côté', 'a', 'jonathan', 'fayot', 'possible', 'john', 'travolta', 'total', 'délire', 'crâne', 'rasé', 'bouc', 'proéminent', 'a', 'aucun', 'poursuites', 'débiles', 'travolta', 'étale', '10', 'mecs', 'blanche', '8', 'mouvements', 'laisse', 'associé', 'faire', 'démolir', 'tronche', 'pendant', 'scrute', 'pourrait', 'être', 'plaisir', 'coupable', 'tellement', 'hénaurme', 'juste', 'daube', 'droite', 'lignée', 'transporteur', 'taken', 'banlieue', '13']\n"
     ]
    }
   ],
   "source": [
    "import nltk\n",
    "import re\n",
    "from nltk.tokenize import word_tokenize\n",
    "from nltk.corpus import stopwords\n",
    "from datasets import load_dataset\n",
    "\n",
    "try:\n",
    "    # Je Télécharge les données nécessaires pour NLTK\n",
    "    nltk.download('punkt')\n",
    "    nltk.download('stopwords')\n",
    "except LookupError as e:\n",
    "    print(f\"Erreur lors du téléchargement des données NLTK : {e}\")\n",
    "\n",
    "try:\n",
    "    # Je Charge le jeu de données Allociné\n",
    "    allocine_dataset = load_dataset(\"allocine\")\n",
    "\n",
    "    reviews = allocine_dataset[\"train\"][\"review\"]\n",
    "\n",
    "    first_review = reviews[0]\n",
    "\n",
    "    tokens = word_tokenize(first_review)\n",
    "\n",
    "    stop_words = set(stopwords.words('french'))\n",
    "\n",
    "    cleaned_tokens = [token.lower() for token in tokens if re.match(r'^\\w+$', token) and token.lower() not in stop_words]\n",
    "\n",
    "    print(\"Avis original:\")\n",
    "    print(first_review)\n",
    "    print(\"\\nTokens après nettoyage:\")\n",
    "    print(cleaned_tokens)\n",
    "\n",
    "except Exception as e:\n",
    "    print(f\"Une erreur est survenue : {e}\")\n"
   ]
  },
  {
   "cell_type": "markdown",
   "metadata": {},
   "source": [
    "Je veux lemmatiser"
   ]
  },
  {
   "cell_type": "markdown",
   "metadata": {},
   "source": [
    "Je télécharge le modèle spaCy\n",
    "✔ Download and installation successful"
   ]
  },
  {
   "cell_type": "code",
   "execution_count": 9,
   "metadata": {},
   "outputs": [
    {
     "name": "stdout",
     "output_type": "stream",
     "text": [
      "Avis original:\n",
      "Si vous cherchez du cinéma abrutissant à tous les étages,n'ayant aucune peur du cliché en castagnettes et moralement douteux,\"From Paris with love\" est fait pour vous.Toutes les productions Besson,via sa filière EuropaCorp ont de quoi faire naître la moquerie.Paris y est encore une fois montrée comme une capitale exotique,mais attention si l'on se dirige vers la banlieue,on y trouve tout plein d'intégristes musulmans prêts à faire sauter le caisson d'une ambassadrice américaine.Nauséeux.Alors on se dit qu'on va au moins pouvoir apprécier la déconnade d'un classique buddy-movie avec le jeune agent aux dents longues obligé de faire équipe avec un vieux lou complètement timbré.Mais d'un côté,on a un Jonathan Rhys-meyers fayot au possible,et de l'autre un John Travolta en total délire narcissico-badass,crâne rasé et bouc proéminent à l'appui.Sinon,il n'y a aucun scénario.Seulement,des poursuites débiles sur l'autoroute,Travolta qui étale 10 mecs à l'arme blanche en 8 mouvements(!!)ou laisse son associé se faire démolir la tronche pendant qu'il scrute à la jumelle.Ca pourrait être un plaisir coupable,tellement c'est \"hénaurme\",c'est juste de la daube dans la droite lignée d'un \"Transporteur\",\"Taken\"ou \"Banlieue 13\".\n",
      "\n",
      "Lemmes:\n",
      "['si', 'vous', 'chercher', 'de', 'cinéma', 'abrutir', 'à', 'tout', 'le', 'étage', ',', 'ne', 'avoir', 'aucun', 'peur', 'de', 'cliché', 'en', 'castagnette', 'et', 'moralement', 'douteux,\"From', 'Paris', 'with', 'lover', '\"', 'être', 'faire', 'pour', 'vous', '.', 'tout', 'le', 'production', 'Besson', ',', 'via', 'son', 'filière', 'EuropaCorp', 'avoir', 'de', 'quoi', 'faire', 'naître', 'le', 'moquerie', '.', 'Paris', 'y', 'être', 'encore', 'un', 'fois', 'montrer', 'comme', 'un', 'capitale', 'exotique', ',', 'mais', 'attention', 'si', 'le', 'on', 'se', 'diriger', 'vers', 'le', 'banlieue', ',', 'on', 'y', 'trouver', 'tout', 'plein', 'de', 'intégriste', 'musulman', 'prêt', 'à', 'faire', 'sauter', 'le', 'caisson', 'de', 'un', 'ambassadeur', 'américain', '.', 'Nauséeux', '.', 'alors', 'on', 'se', 'dire', 'que', 'on', 'aller', 'au', 'moins', 'pouvoir', 'apprécier', 'le', 'déconnade', 'de', 'un', 'classique', 'buddy', '-', 'movie', 'avec', 'le', 'jeune', 'agent', 'à', 'dent', 'long', 'obligé', 'de', 'faire', 'équipe', 'avec', 'un', 'vieux', 'lou', 'complètement', 'timbrer', '.', 'mais', 'de', 'un', 'côté', ',', 'on', 'avoir', 'un', 'jonathan', 'rhy', '-', 'meyer', 'fayot', 'au', 'possible', ',', 'et', 'de', 'le', 'autre', 'un', 'John', 'travolta', 'en', 'total', 'délir', 'narcissico', '-', 'badas', ',', 'crâne', 'raser', 'et', 'bouc', 'proéminent', 'à', 'le', 'appui', '.', 'sinon', ',', 'il', 'ne', 'y', 'avoir', 'aucun', 'scénario', '.', 'seulement', ',', 'un', 'poursuite', 'débile', 'sur', 'le', 'autoroute', ',', 'travolta', 'qui', 'étale', '10', 'mec', 'à', 'le', 'arme', 'blanc', 'en', '8', 'mouvements(!!)ou', 'laisse', 'son', 'associé', 'se', 'faire', 'démolir', 'le', 'tronche', 'pendant', 'que', 'il', 'scruter', 'à', 'le', 'jumelle', '.', 'ca', 'pouvoir', 'être', 'un', 'plaisir', 'coupable', ',', 'tellement', 'ce', 'être', '\"', 'hénaurme\",c\\'', 'être', 'juste', 'de', 'le', 'daube', 'dans', 'le', 'droite', 'ligner', 'de', 'un', '\"', 'transporteur\",\"taken\"ou', '\"', 'banlieue', '13', '\"', '.']\n"
     ]
    }
   ],
   "source": [
    "import spacy\n",
    "\n",
    "nlp = spacy.load('fr_core_news_sm')\n",
    "\n",
    "avis_allocine = reviews[0]\n",
    "\n",
    "# Lemmatiser\n",
    "doc = nlp(avis_allocine)\n",
    "lemmes = [token.lemma_ for token in doc]\n",
    "\n",
    "print(\"Avis original:\")\n",
    "print(avis_allocine)\n",
    "print(\"\\nLemmes:\")\n",
    "print(lemmes)\n"
   ]
  }
 ],
 "metadata": {
  "kernelspec": {
   "display_name": ".venv",
   "language": "python",
   "name": "python3"
  },
  "language_info": {
   "codemirror_mode": {
    "name": "ipython",
    "version": 3
   },
   "file_extension": ".py",
   "mimetype": "text/x-python",
   "name": "python",
   "nbconvert_exporter": "python",
   "pygments_lexer": "ipython3",
   "version": "3.10.12"
  }
 },
 "nbformat": 4,
 "nbformat_minor": 2
}
